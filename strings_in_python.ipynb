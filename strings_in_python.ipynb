{
  "nbformat": 4,
  "nbformat_minor": 0,
  "metadata": {
    "colab": {
      "provenance": [],
      "authorship_tag": "ABX9TyP1mbyU6FNCOvpWO+WRma2t",
      "include_colab_link": true
    },
    "kernelspec": {
      "name": "python3",
      "display_name": "Python 3"
    },
    "language_info": {
      "name": "python"
    }
  },
  "cells": [
    {
      "cell_type": "markdown",
      "metadata": {
        "id": "view-in-github",
        "colab_type": "text"
      },
      "source": [
        "<a href=\"https://colab.research.google.com/github/Swanimadhoop/python_basics_strings/blob/main/strings_in_python.ipynb\" target=\"_parent\"><img src=\"https://colab.research.google.com/assets/colab-badge.svg\" alt=\"Open In Colab\"/></a>"
      ]
    },
    {
      "cell_type": "markdown",
      "source": [
        "list1=[0,1,2,3,4,5] list[1:4] print(list1)"
      ],
      "metadata": {
        "id": "T7ehA8lv4gqI"
      }
    },
    {
      "cell_type": "code",
      "source": [
        "#tuple\n",
        "my_tuple=[1,2,3,4,5]\n",
        "for tup in my_tuple[:5]:\n",
        " print(tup)"
      ],
      "metadata": {
        "colab": {
          "base_uri": "https://localhost:8080/"
        },
        "id": "kVNQcpLQ44Gx",
        "outputId": "c0ad9ff0-00ba-4763-c95a-99abb0439c03"
      },
      "execution_count": null,
      "outputs": [
        {
          "output_type": "stream",
          "name": "stdout",
          "text": [
            "1\n",
            "2\n",
            "3\n",
            "4\n",
            "5\n"
          ]
        }
      ]
    },
    {
      "cell_type": "code",
      "source": [
        "#dictionary\n",
        "imsc_1={1:\"Adithyan\",2: \"Amjad\"}\n",
        "multiple=[]\n",
        "for each in imsc_1:\n",
        "  multiple.append(1)\n",
        "print(imsc_1[1])"
      ],
      "metadata": {
        "colab": {
          "base_uri": "https://localhost:8080/"
        },
        "id": "Z9fXtRSa5xAo",
        "outputId": "544129b9-7cb4-4b47-a6bd-0f6de1e77e7b"
      },
      "execution_count": null,
      "outputs": [
        {
          "output_type": "stream",
          "name": "stdout",
          "text": [
            "Adithyan\n"
          ]
        }
      ]
    },
    {
      "cell_type": "code",
      "source": [
        "#dictionary\n",
        "my_list=[1,2,3,4,5]\n",
        "for each in range(0,4):\n",
        "  print(my_list)"
      ],
      "metadata": {
        "colab": {
          "base_uri": "https://localhost:8080/"
        },
        "id": "fsjkt4hk7sF6",
        "outputId": "6d96c6ca-0d75-49dd-ef69-fd45e7cf0b87"
      },
      "execution_count": null,
      "outputs": [
        {
          "output_type": "stream",
          "name": "stdout",
          "text": [
            "[1, 2, 3, 4, 5]\n",
            "[1, 2, 3, 4, 5]\n",
            "[1, 2, 3, 4, 5]\n",
            "[1, 2, 3, 4, 5]\n"
          ]
        }
      ]
    },
    {
      "cell_type": "markdown",
      "source": [
        "**reversing a list**"
      ],
      "metadata": {
        "id": "xL9sx5lec_p1"
      }
    },
    {
      "cell_type": "code",
      "source": [
        "my_list=[]\n",
        "x=int(input(\"enter the number of elements: \"))\n",
        "while x>0:\n",
        "  y=input(\"enter the elements: \")\n",
        "  my_list.append(y)\n",
        "  x=x-1\n",
        "\n",
        "my_list.reverse()\n",
        "print(\"reversed number= \",my_list)\n"
      ],
      "metadata": {
        "colab": {
          "base_uri": "https://localhost:8080/"
        },
        "id": "k7yOB6HadDIn",
        "outputId": "ed810e8b-13e7-49e2-d23e-3ce1392175a9"
      },
      "execution_count": null,
      "outputs": [
        {
          "output_type": "stream",
          "name": "stdout",
          "text": [
            "enter the number of elements: 5\n",
            "enter the elements: desk\n",
            "enter the elements: mote\n",
            "enter the elements: paper\n",
            "enter the elements: craft\n",
            "enter the elements: kit\n",
            "reversed number=  ['kit', 'craft', 'paper', 'mote', 'desk']\n"
          ]
        }
      ]
    },
    {
      "cell_type": "markdown",
      "source": [
        "***concatenate list***"
      ],
      "metadata": {
        "id": "8a4rLa81hhI9"
      }
    },
    {
      "cell_type": "code",
      "source": [
        "list1=[]\n",
        "list2=[]\n",
        "list3=[]\n",
        "x=int(input(\"enter the number of elements in list 1: \"))\n",
        "t=x\n",
        "while x>0:\n",
        "  y=input(\"enter the elements in list 1: \")\n",
        "  list1.append(y)\n",
        "  x=x-1\n",
        "\n",
        "a=int(input(\"enter the number of elememts in list 2: \"))\n",
        "while a>0:\n",
        "  b=input(\"enter the elements: \")\n",
        "  list2.append(b)\n",
        "  a=a-1\n",
        "\n",
        "for i in range(0,t):\n",
        "  list3.append(list1[i]+list2[i])\n",
        " \n",
        "print(\"concatenated list= \",list3)"
      ],
      "metadata": {
        "colab": {
          "base_uri": "https://localhost:8080/"
        },
        "id": "aiosUkhXiufo",
        "outputId": "e2ac5436-83c3-45e4-ba1f-3c515b783f24"
      },
      "execution_count": null,
      "outputs": [
        {
          "output_type": "stream",
          "name": "stdout",
          "text": [
            "enter the number of elements in list 1: 3\n",
            "enter the elements in list 1: my\n",
            "enter the elements in list 1: cat\n",
            "enter the elements in list 1: be\n",
            "enter the number of elememts in list 2: 3\n",
            "enter the elements: pen\n",
            "enter the elements: house\n",
            "enter the elements: mine\n",
            "concatenated list=  ['mypen', 'cathouse', 'bemine']\n"
          ]
        }
      ]
    },
    {
      "cell_type": "markdown",
      "source": [
        "**square of items in a list with values from 1 to 10**\n"
      ],
      "metadata": {
        "id": "GXLjYZ1jonyP"
      }
    },
    {
      "cell_type": "code",
      "source": [
        "list_1=[1,2,3,4,5,6,7,8,9,10]\n",
        "for i in range(0,10):\n",
        "  list_1[i]=list_1[i]*list_1[i]\n",
        "print(list_1)"
      ],
      "metadata": {
        "id": "9FYfGxZspjQo",
        "colab": {
          "base_uri": "https://localhost:8080/"
        },
        "outputId": "ea4903be-16f2-4502-e77e-6906edecc6a2"
      },
      "execution_count": null,
      "outputs": [
        {
          "output_type": "stream",
          "name": "stdout",
          "text": [
            "[1, 4, 9, 16, 25, 36, 49, 64, 81, 100]\n"
          ]
        }
      ]
    },
    {
      "cell_type": "markdown",
      "source": [
        "1. Create a tuple with different data type tuple and reverse it .\n",
        "2. Count no of occurence of of an item from a tuple .\n",
        "3. Unpack a tuple into several ways .\n",
        "4. Find element wise sum of a tuple .\n",
        "5. Convert a tuple to dictionary  .\n",
        "6. Remove an item from a set if it is present .\n",
        "7. Create intersection of sets .\n",
        "8. Find min and max value in a set .\n",
        "9. Check if two given sets have no elements in common .\n",
        "10. Sort a dictionary by value .\n",
        "11. Concatinate two dictionary to create a new one .\n",
        "12. Print a dictionary where the keys are in the range of 10 -20 and values are the square of the keys .\n",
        "14. Remove duplicates from dictionary .\n",
        "15. Create a dictionary from a string ."
      ],
      "metadata": {
        "id": "KWr0LHgQ_sf5"
      }
    },
    {
      "cell_type": "markdown",
      "source": [
        "**Remove empty string from a list of strings**"
      ],
      "metadata": {
        "id": "lCDe_nT-1utE"
      }
    },
    {
      "cell_type": "code",
      "source": [
        "string =[\"hi\" ,\"\", \"I\",\"\",\"am\",\"\",\"Swani\"]\n",
        "for s in string:\n",
        "  if s==\"\":\n",
        "    string.remove(s)\n",
        "print(string)"
      ],
      "metadata": {
        "colab": {
          "base_uri": "https://localhost:8080/"
        },
        "id": "wLM_pgohAT8J",
        "outputId": "0d64590a-80fc-4d2a-8ff0-738fd56f723f"
      },
      "execution_count": null,
      "outputs": [
        {
          "output_type": "stream",
          "name": "stdout",
          "text": [
            "['hi', 'I', 'am', 'Swani']\n"
          ]
        }
      ]
    },
    {
      "cell_type": "markdown",
      "source": [
        "**Find a particular item in a list [1,3,10,12,13] and if present replace it with its square value(only update the first occurance)**"
      ],
      "metadata": {
        "id": "t824ItlT204m"
      }
    },
    {
      "cell_type": "code",
      "source": [
        "my_list=[1,2,3,4,7,8,10,12]\n"
      ],
      "metadata": {
        "id": "wryp3cE8Dy7g"
      },
      "execution_count": null,
      "outputs": []
    },
    {
      "cell_type": "markdown",
      "source": [
        "**Remove all occurence of a specific item from the list**"
      ],
      "metadata": {
        "id": "Y_g1c4PI3XKR"
      }
    },
    {
      "cell_type": "code",
      "source": [
        "string=[\"I\",\"have \",\"a\",\"a\",\"cat.\"]\n",
        "for s in string:\n",
        "  if s==\"a\":\n",
        "    string.remove(s)\n",
        "print(string)\n"
      ],
      "metadata": {
        "colab": {
          "base_uri": "https://localhost:8080/"
        },
        "id": "mlViePALD_pE",
        "outputId": "be1dd39e-198a-4687-d516-619e85c8d285"
      },
      "execution_count": null,
      "outputs": [
        {
          "output_type": "stream",
          "name": "stdout",
          "text": [
            "['I', 'have ', 'a', 'cat.']\n"
          ]
        }
      ]
    },
    {
      "cell_type": "markdown",
      "source": [
        "**Create a tuple with different data type tuple and reverse it**"
      ],
      "metadata": {
        "id": "_p8iQyqX3d9J"
      }
    },
    {
      "cell_type": "code",
      "source": [
        "my_tuple=(\"happy\",2,2.05,[1,2,3])\n",
        "my_tuple=my_tuple[::-1]\n",
        "print(my_tuple)\n"
      ],
      "metadata": {
        "colab": {
          "base_uri": "https://localhost:8080/"
        },
        "id": "nGJ1sMo0FXvd",
        "outputId": "19b2769b-08da-4cf6-a41f-a8e0131cda63"
      },
      "execution_count": null,
      "outputs": [
        {
          "output_type": "stream",
          "name": "stdout",
          "text": [
            "([1, 2, 3], 2.05, 2, 'happy')\n"
          ]
        }
      ]
    },
    {
      "cell_type": "markdown",
      "source": [
        "**Count no of occurence of an item from a tuple**"
      ],
      "metadata": {
        "id": "_iOCroEa3mxa"
      }
    },
    {
      "cell_type": "code",
      "source": [
        "my_tuple=[1,2,3,4,3,4,3,5,6,3,9,9]\n",
        "count= my_tuple.count(3)\n",
        "print(count)"
      ],
      "metadata": {
        "colab": {
          "base_uri": "https://localhost:8080/"
        },
        "id": "duyzziYYHJ1M",
        "outputId": "f1a42f3e-d183-4f4f-b930-d045e086de2e"
      },
      "execution_count": null,
      "outputs": [
        {
          "output_type": "stream",
          "name": "stdout",
          "text": [
            "4\n"
          ]
        }
      ]
    },
    {
      "cell_type": "markdown",
      "source": [
        "**Unpack a tuple into several ways**"
      ],
      "metadata": {
        "id": "CJFQ2lMw3r-4"
      }
    },
    {
      "cell_type": "code",
      "source": [
        "#1\n",
        "my_tuple=(\"Hi\",2,2.05)\n",
        "x,y,z= my_tuple\n",
        "print(x,y,z)\n",
        "\n",
        "#2\n",
        "my_list=list(my_tuple)\n",
        "print(my_list)\n",
        "\n",
        "#3\n",
        "for index, item in enumerate(my_tuple):\n",
        "  print(index,item)\n"
      ],
      "metadata": {
        "colab": {
          "base_uri": "https://localhost:8080/"
        },
        "id": "dWScZbUEH4JK",
        "outputId": "2052ddf7-f861-4e0d-a850-3af0d3ad682c"
      },
      "execution_count": null,
      "outputs": [
        {
          "output_type": "stream",
          "name": "stdout",
          "text": [
            "Hi 2 2.05\n",
            "['Hi', 2, 2.05]\n",
            "0 Hi\n",
            "1 2\n",
            "2 2.05\n"
          ]
        }
      ]
    },
    {
      "cell_type": "markdown",
      "source": [
        "**Find element wise sum of a tuple**"
      ],
      "metadata": {
        "id": "zeloBB573wmH"
      }
    },
    {
      "cell_type": "code",
      "source": [
        "tuple1=(1,2,3,4)\n",
        "tuple2=(1,2,3,4)\n",
        "result=[]\n",
        "for x,y in zip(tuple1, tuple2):\n",
        "  result.append(x+y)\n",
        "result=tuple(result)\n",
        "print(result) "
      ],
      "metadata": {
        "colab": {
          "base_uri": "https://localhost:8080/"
        },
        "id": "HOiZyOq4K0oy",
        "outputId": "46f82eb2-a99f-408a-c953-9f2c79d2fa4b"
      },
      "execution_count": null,
      "outputs": [
        {
          "output_type": "stream",
          "name": "stdout",
          "text": [
            "(2, 4, 6, 8)\n"
          ]
        }
      ]
    },
    {
      "cell_type": "markdown",
      "source": [
        "**convert a tuple into dictionary**"
      ],
      "metadata": {
        "id": "BAf1q95e31lk"
      }
    },
    {
      "cell_type": "code",
      "source": [
        "my_tuple = ((\"a\", 1), (\"b\", 2), (\"c\", 3))\n",
        "my_dict = dict(my_tuple)\n",
        "print(my_dict)"
      ],
      "metadata": {
        "colab": {
          "base_uri": "https://localhost:8080/"
        },
        "id": "oA3OG7qbMprO",
        "outputId": "e4b96f8f-e8cd-4c9d-8a33-b2ffe59bb626"
      },
      "execution_count": null,
      "outputs": [
        {
          "output_type": "stream",
          "name": "stdout",
          "text": [
            "{'a': 1, 'b': 2, 'c': 3}\n"
          ]
        }
      ]
    },
    {
      "cell_type": "markdown",
      "source": [
        "**Remove an item from a set if it is present**"
      ],
      "metadata": {
        "id": "BoKTD-5D35h2"
      }
    },
    {
      "cell_type": "code",
      "source": [
        "my_set={1,2,3,4,5,6}\n",
        "my_set.remove(5)\n",
        "print(my_set)"
      ],
      "metadata": {
        "colab": {
          "base_uri": "https://localhost:8080/"
        },
        "id": "KCVTbE6huRE0",
        "outputId": "2e3d920b-227f-4dfa-aa36-bab3eeeb337f"
      },
      "execution_count": null,
      "outputs": [
        {
          "output_type": "stream",
          "name": "stdout",
          "text": [
            "{1, 2, 3, 4, 6}\n"
          ]
        }
      ]
    },
    {
      "cell_type": "markdown",
      "source": [
        "**Create intersection of sets**"
      ],
      "metadata": {
        "id": "d4Y2MWUJ3-cq"
      }
    },
    {
      "cell_type": "code",
      "source": [
        "set1 = {1, 2, 3, 4}\n",
        "set2 = {3, 4, 5, 6}\n",
        "\n",
        "intersection = set1 & set2\n",
        "\n",
        "print(intersection)"
      ],
      "metadata": {
        "colab": {
          "base_uri": "https://localhost:8080/"
        },
        "id": "o-CRcARnuzzH",
        "outputId": "a36d1620-b1e0-4887-a813-37b3576d35aa"
      },
      "execution_count": null,
      "outputs": [
        {
          "output_type": "stream",
          "name": "stdout",
          "text": [
            "{3, 4}\n"
          ]
        }
      ]
    },
    {
      "cell_type": "markdown",
      "source": [
        "**Find min and max value in a set**"
      ],
      "metadata": {
        "id": "9lL-WTpk4BFo"
      }
    },
    {
      "cell_type": "code",
      "source": [
        "my_set={1,2,3,4,5,6,7}\n",
        "minimum=min(my_set)\n",
        "maximum=max(my_set)\n",
        "print(\"minimum=\",minimum)\n",
        "print(\"maximum=\",maximum)"
      ],
      "metadata": {
        "colab": {
          "base_uri": "https://localhost:8080/"
        },
        "id": "tH1wJtG8vFp9",
        "outputId": "cd7bb54f-8327-4ce3-a04f-04f1766e9d70"
      },
      "execution_count": null,
      "outputs": [
        {
          "output_type": "stream",
          "name": "stdout",
          "text": [
            "minimum= 1\n",
            "maximum= 7\n"
          ]
        }
      ]
    },
    {
      "cell_type": "markdown",
      "source": [
        "**Check if two given sets have no elements in common**"
      ],
      "metadata": {
        "id": "wYA6uWAH4E4r"
      }
    },
    {
      "cell_type": "code",
      "source": [
        "set1 = {1, 2, 3}\n",
        "set2 = {3, 5, 6}\n",
        "\n",
        "if not set1 & set2:\n",
        "    print(\"The sets have no elements in common.\")\n",
        "else:\n",
        "    print(\"The sets have elements in common.\")\n"
      ],
      "metadata": {
        "colab": {
          "base_uri": "https://localhost:8080/"
        },
        "id": "GlfeFc9iv1vq",
        "outputId": "e9a20f0e-af32-4b76-e6c9-98b3dc8fb26e"
      },
      "execution_count": null,
      "outputs": [
        {
          "output_type": "stream",
          "name": "stdout",
          "text": [
            "The sets have elements in common.\n"
          ]
        }
      ]
    },
    {
      "cell_type": "markdown",
      "source": [
        "**Sort a dictionary by value**"
      ],
      "metadata": {
        "id": "o43K1dn74MJX"
      }
    },
    {
      "cell_type": "code",
      "source": [
        "my_dict={\"swani\",\"car\",\"phone\"}\n",
        "sort_dict= sorted(my_dict)\n",
        "print(sort_dict)"
      ],
      "metadata": {
        "id": "EpDnafXBv-6f",
        "colab": {
          "base_uri": "https://localhost:8080/"
        },
        "outputId": "ec0eaab5-720c-4e45-b04f-c724667e8d80"
      },
      "execution_count": null,
      "outputs": [
        {
          "output_type": "stream",
          "name": "stdout",
          "text": [
            "['car', 'phone', 'swani']\n"
          ]
        }
      ]
    },
    {
      "cell_type": "markdown",
      "source": [
        "**Concatinate two dictionary to create a new one**"
      ],
      "metadata": {
        "id": "YGTlovuF4OmJ"
      }
    },
    {
      "cell_type": "code",
      "source": [
        "dict1={3:\"car\",6: \"man\", 5:\"keep\",1:\"still\"}\n",
        "dict2={4:\"phone\",7: \"ashfaq\", 2:\"snapchat\"}\n",
        "dict1.update(dict2)\n",
        "print(dict1)\n"
      ],
      "metadata": {
        "colab": {
          "base_uri": "https://localhost:8080/"
        },
        "id": "NILb2f2P9wvx",
        "outputId": "07f2045a-4372-46d0-8022-f1b6d1095e2a"
      },
      "execution_count": null,
      "outputs": [
        {
          "output_type": "stream",
          "name": "stdout",
          "text": [
            "{3: 'car', 6: 'man', 5: 'keep', 1: 'still', 4: 'phone', 7: 'ashfaq', 2: 'snapchat'}\n"
          ]
        }
      ]
    },
    {
      "cell_type": "markdown",
      "source": [
        "**Print a dictionary where the keys are in the range of 10-20 and value are the square of the keys**"
      ],
      "metadata": {
        "id": "SB3PaCIw4TPd"
      }
    },
    {
      "cell_type": "code",
      "source": [
        "my_list=[]\n",
        "for x in range(10,20):\n",
        "  my_list.append(x**2)\n",
        "print(my_list)"
      ],
      "metadata": {
        "colab": {
          "base_uri": "https://localhost:8080/"
        },
        "id": "swzUPol-ALfj",
        "outputId": "1e7eaafc-8ac1-496c-f8d5-12bca8abd578"
      },
      "execution_count": null,
      "outputs": [
        {
          "output_type": "stream",
          "name": "stdout",
          "text": [
            "[100, 121, 144, 169, 196, 225, 256, 289, 324, 361]\n"
          ]
        }
      ]
    },
    {
      "cell_type": "markdown",
      "source": [
        "**remove duplicates from dictionary**"
      ],
      "metadata": {
        "id": "FCPE1LZC5KHW"
      }
    },
    {
      "cell_type": "code",
      "source": [
        "my_list=[\"swani\", \"swani\" ,\"you\",\"swani\"]\n",
        "for s in my_list:\n",
        "  if s==\"swani\":\n",
        "    my_list.remove(s)\n",
        "print(my_list)"
      ],
      "metadata": {
        "colab": {
          "base_uri": "https://localhost:8080/"
        },
        "id": "A99B62DfEZWT",
        "outputId": "78edae9b-b54b-4567-b516-b75704a6e3a8"
      },
      "execution_count": null,
      "outputs": [
        {
          "output_type": "stream",
          "name": "stdout",
          "text": [
            "['you', 'swani']\n"
          ]
        }
      ]
    },
    {
      "cell_type": "markdown",
      "source": [
        "**create a dictionary from a string**\n"
      ],
      "metadata": {
        "id": "2dCjaxz35OYT"
      }
    },
    {
      "cell_type": "code",
      "source": [
        "string={1:\"swani\", 2:\"print\", 3:\"card\"}\n",
        "print(string[1])"
      ],
      "metadata": {
        "colab": {
          "base_uri": "https://localhost:8080/"
        },
        "id": "RJA4fj4uCRYT",
        "outputId": "11e7076c-59b8-4b09-c1cf-416ed8838614"
      },
      "execution_count": null,
      "outputs": [
        {
          "output_type": "stream",
          "name": "stdout",
          "text": [
            "swani\n"
          ]
        }
      ]
    },
    {
      "cell_type": "code",
      "source": [
        "my_list=[1,2,3,4,5,6]\n",
        "list=[]\n",
        "for each in my_list:\n",
        "  if each%2==0:\n",
        "    list.append(each*each)\n",
        "print(list)"
      ],
      "metadata": {
        "colab": {
          "base_uri": "https://localhost:8080/"
        },
        "id": "j1UZuus6FcbT",
        "outputId": "1cf7c560-5741-4c41-84ae-21877cdbcc85"
      },
      "execution_count": null,
      "outputs": [
        {
          "output_type": "stream",
          "name": "stdout",
          "text": [
            "[4, 16, 36]\n"
          ]
        }
      ]
    },
    {
      "cell_type": "code",
      "source": [
        "list=[1,2,3,4,5,6]\n",
        "sq_list=[each*each for each in list if each%2==0]\n",
        "print(sq_list)"
      ],
      "metadata": {
        "colab": {
          "base_uri": "https://localhost:8080/"
        },
        "id": "yEUQxe55IGnf",
        "outputId": "82ca56d3-e0d9-4e2d-bff6-99d141199171"
      },
      "execution_count": null,
      "outputs": [
        {
          "output_type": "stream",
          "name": "stdout",
          "text": [
            "[4, 16, 36]\n"
          ]
        }
      ]
    },
    {
      "cell_type": "code",
      "source": [
        "my_list=[1,2,3,4,5,6]\n",
        "list=[]\n",
        "for each in my_list:\n",
        "  if each%2==0:\n",
        "    list.append(each*each)\n",
        "  elif each%3==0:\n",
        "    list.append(each*each*each)\n",
        "print(list)"
      ],
      "metadata": {
        "colab": {
          "base_uri": "https://localhost:8080/"
        },
        "id": "rETjef1QJ0le",
        "outputId": "a1957f47-5f42-4dbe-884c-bfc7d2830c3d"
      },
      "execution_count": null,
      "outputs": [
        {
          "output_type": "stream",
          "name": "stdout",
          "text": [
            "[4, 27, 16, 36]\n"
          ]
        }
      ]
    },
    {
      "cell_type": "markdown",
      "source": [
        "**list comprehension**"
      ],
      "metadata": {
        "id": "f30s0k_NM4u2"
      }
    },
    {
      "cell_type": "code",
      "source": [
        "string=(\"1  2 3  4 \")\n",
        "list=string.split()\n",
        "print(list)\n",
        "int_i=[int(i) for i in list]\n",
        "  \n",
        "int_i"
      ],
      "metadata": {
        "colab": {
          "base_uri": "https://localhost:8080/"
        },
        "id": "uSpgjbg6M99e",
        "outputId": "f53792c1-c1c5-4f94-f9ad-97c48c40faed"
      },
      "execution_count": null,
      "outputs": [
        {
          "output_type": "stream",
          "name": "stdout",
          "text": [
            "['1', '2', '3', '4']\n"
          ]
        },
        {
          "output_type": "execute_result",
          "data": {
            "text/plain": [
              "[1, 2, 3, 4]"
            ]
          },
          "metadata": {},
          "execution_count": 66
        }
      ]
    },
    {
      "cell_type": "code",
      "source": [
        "list=[1,2,3,4,5,6]\n",
        "\n"
      ],
      "metadata": {
        "id": "Rg0rAsHeQPs3"
      },
      "execution_count": null,
      "outputs": []
    }
  ]
}